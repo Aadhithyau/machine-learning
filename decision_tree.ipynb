{
  "nbformat": 4,
  "nbformat_minor": 0,
  "metadata": {
    "colab": {
      "provenance": []
    },
    "kernelspec": {
      "name": "python3",
      "display_name": "Python 3"
    },
    "language_info": {
      "name": "python"
    }
  },
  "cells": [
    {
      "cell_type": "code",
      "execution_count": 1,
      "metadata": {
        "colab": {
          "base_uri": "https://localhost:8080/"
        },
        "id": "3vn6PPbDpa0v",
        "outputId": "9220cfa3-b4f7-42de-c269-2605a39f372f"
      },
      "outputs": [
        {
          "output_type": "stream",
          "name": "stdout",
          "text": [
            "Best split feature: age\n"
          ]
        }
      ],
      "source": [
        "import numpy as np\n",
        "import pandas as pd\n",
        "\n",
        "# Dataset\n",
        "data = {\n",
        "    'age': [\"<=30\",\"<=30\",\"31..40\",\">40\",\">40\",\">40\",\"31..40\",\"<=30\",\"<=30\",\">40\",\"<=30\",\"31..40\",\"31..40\",\">40\"],\n",
        "    'income': [\"high\",\"high\",\"high\",\"medium\",\"low\",\"low\",\"low\",\"medium\",\"low\",\"medium\",\"medium\",\"medium\",\"high\",\"medium\"],\n",
        "    'student': [\"no\",\"no\",\"no\",\"no\",\"yes\",\"yes\",\"yes\",\"no\",\"yes\",\"yes\",\"yes\",\"no\",\"yes\",\"no\"],\n",
        "    'credit_rating': [\"fair\",\"excellent\",\"fair\",\"fair\",\"fair\",\"excellent\",\"excellent\",\"fair\",\"fair\",\"fair\",\"excellent\",\"excellent\",\"fair\",\"excellent\"],\n",
        "    'buys_computer': [\"no\",\"no\",\"yes\",\"yes\",\"yes\",\"no\",\"yes\",\"no\",\"yes\",\"yes\",\"yes\",\"yes\",\"yes\",\"no\"]\n",
        "}\n",
        "df = pd.DataFrame(data)\n",
        "\n",
        "# Entropy\n",
        "def entropy(col):\n",
        "    vals, counts = np.unique(col, return_counts=True)\n",
        "    probs = counts / counts.sum()\n",
        "    return -(probs * np.log2(probs)).sum()\n",
        "\n",
        "# Information gain\n",
        "def info_gain(df, attr, target=\"buys_computer\"):\n",
        "    total = entropy(df[target])\n",
        "    vals, counts = np.unique(df[attr], return_counts=True)\n",
        "    weighted = sum((counts[i]/sum(counts)) * entropy(df[df[attr]==vals[i]][target]) for i in range(len(vals)))\n",
        "    return total - weighted\n",
        "\n",
        "# Pick best feature\n",
        "features = list(df.columns[:-1])\n",
        "best = max(features, key=lambda f: info_gain(df, f))\n",
        "print(\"Best split feature:\", best)\n"
      ]
    }
  ]
}