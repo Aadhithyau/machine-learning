{
  "nbformat": 4,
  "nbformat_minor": 0,
  "metadata": {
    "colab": {
      "provenance": []
    },
    "kernelspec": {
      "name": "python3",
      "display_name": "Python 3"
    },
    "language_info": {
      "name": "python"
    }
  },
  "cells": [
    {
      "cell_type": "code",
      "execution_count": 3,
      "metadata": {
        "colab": {
          "base_uri": "https://localhost:8080/"
        },
        "id": "Vxn1cs7ppa9l",
        "outputId": "7e35cf2d-7a81-491d-8497-0964a0a92b4c"
      },
      "outputs": [
        {
          "output_type": "stream",
          "name": "stdout",
          "text": [
            "\n",
            "====== K-MEANS CLUSTERS ======\n",
            "Cluster 0: 50 samples\n",
            "Cluster 1: 50 samples\n",
            "Cluster 2: 50 samples\n",
            "\n",
            "====== DBSCAN CLUSTERS ======\n",
            "Noise / Outliers: 7 samples\n",
            "Cluster 0: 44 samples\n",
            "Cluster 1: 49 samples\n",
            "Cluster 2: 50 samples\n",
            "\n",
            "====== SOM CLUSTERS ======\n",
            "Cluster 0: 50 samples\n",
            "Cluster 1: 50 samples\n",
            "Cluster 2: 50 samples\n",
            "\n",
            "====== FIRST 10 ASSIGNMENTS (KMEANS | DBSCAN | SOM) ======\n",
            "[[ 1  0  2]\n",
            " [ 1  0  2]\n",
            " [ 1  0  2]\n",
            " [ 1 -1  2]\n",
            " [ 1  0  2]\n",
            " [ 1  0  2]\n",
            " [ 1  0  2]\n",
            " [ 1  0  2]\n",
            " [ 1  0  2]\n",
            " [ 1  0  2]]\n"
          ]
        }
      ],
      "source": [
        "import numpy as np\n",
        "from sklearn.cluster import KMeans, DBSCAN\n",
        "from minisom import MiniSom\n",
        "from sklearn.preprocessing import StandardScaler\n",
        "\n",
        "# ============================================================\n",
        "# 1) SYNTHETIC CUSTOMER DATA (R,F,M,Visits)\n",
        "# ============================================================\n",
        "np.random.seed(42)\n",
        "A = np.random.normal([10,15,20000,30],[2,3,3000,5],(50,4))\n",
        "B = np.random.normal([90,5,2000,5],[5,2,500,2],(50,4))\n",
        "C = np.random.normal([40,10,8000,15],[6,2,1500,3],(50,4))\n",
        "X = np.vstack([A,B,C]).astype(np.float32)\n",
        "\n",
        "# Scale\n",
        "X = StandardScaler().fit_transform(X)\n",
        "\n",
        "# ============================================================\n",
        "# 2) KMEANS\n",
        "# ============================================================\n",
        "kmeans = KMeans(n_clusters=3, random_state=42)\n",
        "km_labels = kmeans.fit_predict(X)\n",
        "\n",
        "# ============================================================\n",
        "# 3) DBSCAN\n",
        "# ============================================================\n",
        "db = DBSCAN(eps=0.6, min_samples=5)\n",
        "db_labels = db.fit_predict(X)\n",
        "\n",
        "# ============================================================\n",
        "# 4) SOM (map coords -> int labels)\n",
        "# ============================================================\n",
        "som = MiniSom(x=3, y=1, input_len=X.shape[1], sigma=1, learning_rate=0.5)\n",
        "som.random_weights_init(X)\n",
        "som.train_random(X, 500)\n",
        "\n",
        "winner_coords = np.array([som.winner(r) for r in X])\n",
        "uniq = np.unique(winner_coords, axis=0)\n",
        "map_id = {tuple(c):i for i,c in enumerate(uniq)}\n",
        "som_labels = np.array([map_id[tuple(c)] for c in winner_coords])\n",
        "\n",
        "# ============================================================\n",
        "# 5) PROPER FINAL REPRESENTATION\n",
        "# ============================================================\n",
        "\n",
        "print(\"\\n====== K-MEANS CLUSTERS ======\")\n",
        "for c in np.unique(km_labels):\n",
        "    print(f\"Cluster {c}: {np.sum(km_labels==c)} samples\")\n",
        "\n",
        "print(\"\\n====== DBSCAN CLUSTERS ======\")\n",
        "for c in np.unique(db_labels):\n",
        "    if c == -1:\n",
        "        print(f\"Noise / Outliers: {np.sum(db_labels==c)} samples\")\n",
        "    else:\n",
        "        print(f\"Cluster {c}: {np.sum(db_labels==c)} samples\")\n",
        "\n",
        "print(\"\\n====== SOM CLUSTERS ======\")\n",
        "for c in np.unique(som_labels):\n",
        "    print(f\"Cluster {c}: {np.sum(som_labels==c)} samples\")\n",
        "\n",
        "# ====== OPTIONAL: SHOW FINAL ASSIGNMENT TABLE (first 10 rows) ======\n",
        "final_table = np.vstack([km_labels, db_labels, som_labels]).T\n",
        "print(\"\\n====== FIRST 10 ASSIGNMENTS (KMEANS | DBSCAN | SOM) ======\")\n",
        "print(final_table[:10])\n"
      ]
    }
  ]
}