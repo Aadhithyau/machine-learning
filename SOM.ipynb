{
  "nbformat": 4,
  "nbformat_minor": 0,
  "metadata": {
    "colab": {
      "provenance": []
    },
    "kernelspec": {
      "name": "python3",
      "display_name": "Python 3"
    },
    "language_info": {
      "name": "python"
    }
  },
  "cells": [
    {
      "cell_type": "code",
      "execution_count": 1,
      "metadata": {
        "colab": {
          "base_uri": "https://localhost:8080/"
        },
        "id": "mwT8rEYvX9HA",
        "outputId": "0f643a2a-c597-4c97-e0e2-fe530177ce0e"
      },
      "outputs": [
        {
          "output_type": "stream",
          "name": "stdout",
          "text": [
            "Initial Weights (Before Iteration):\n",
            "[[0.2 0.9]\n",
            " [0.4 0.7]\n",
            " [0.6 0.5]\n",
            " [0.8 0.3]]\n",
            "\n",
            "Weights After First Iteration:\n",
            "[[0.025 0.95 ]\n",
            " [0.3   0.35 ]\n",
            " [0.45  0.25 ]\n",
            " [0.725 0.15 ]]\n",
            "\n",
            "Final Weights (After Last Iteration):\n",
            "[[9.81818693e-92 1.00000000e+00]\n",
            " [2.85714286e-01 5.52202634e-31]\n",
            " [4.28571429e-01 3.94430453e-31]\n",
            " [7.14285714e-01 2.36658272e-31]]\n",
            "\n",
            "Cluster Assignments:\n",
            "Input 1 [0 0 1 1] -> Cluster 0\n",
            "Input 2 [1 0 0 0] -> Cluster 1\n",
            "Input 3 [0 1 1 0] -> Cluster 0\n",
            "Input 4 [0 0 0 1] -> Cluster 0\n"
          ]
        }
      ],
      "source": [
        "import numpy as np\n",
        "\n",
        "# ==== INPUT DATA ====\n",
        "data = np.array([\n",
        "    [0, 0, 1, 1],\n",
        "    [1, 0, 0, 0],\n",
        "    [0, 1, 1, 0],\n",
        "    [0, 0, 0, 1]\n",
        "])\n",
        "\n",
        "num_clusters = 2\n",
        "learning_rate = 0.5\n",
        "num_iterations = 100\n",
        "\n",
        "# ==== GIVEN INITIAL WEIGHTS ====\n",
        "weights = np.array([\n",
        "    [0.2, 0.4, 0.6, 0.8],  # Cluster 1\n",
        "    [0.9, 0.7, 0.5, 0.3]   # Cluster 2\n",
        "]).T   # transpose to shape (4x2)\n",
        "\n",
        "print(\"Initial Weights (Before Iteration):\")\n",
        "print(weights)\n",
        "\n",
        "# ==== TRAINING LOOP ====\n",
        "for it in range(num_iterations):\n",
        "    for x in data:\n",
        "        # Compute Euclidean distances (4D input vs 2 weight vectors)\n",
        "        distances = np.linalg.norm(x - weights.T, axis=1)\n",
        "        bmu_index = np.argmin(distances)\n",
        "\n",
        "        # Update only the BMU weights\n",
        "        weights[:, bmu_index] += learning_rate * (x - weights[:, bmu_index])\n",
        "\n",
        "    if it == 0:\n",
        "        print(\"\\nWeights After First Iteration:\")\n",
        "        print(weights)\n",
        "\n",
        "print(\"\\nFinal Weights (After Last Iteration):\")\n",
        "print(weights)\n",
        "\n",
        "# ==== CLUSTER ASSIGNMENT ====\n",
        "print(\"\\nCluster Assignments:\")\n",
        "for i, x in enumerate(data):\n",
        "    distances = np.linalg.norm(x - weights.T, axis=1)\n",
        "    cluster = np.argmin(distances)\n",
        "    print(f\"Input {i+1} {x} -> Cluster {cluster}\")\n"
      ]
    },
    {
      "cell_type": "code",
      "source": [
        "!pip install minisom\n",
        "from minisom import MiniSom\n",
        "import numpy as np\n",
        "\n",
        "# ==== INPUT DATA ====\n",
        "data = np.array([\n",
        "    [0, 0, 1, 1],\n",
        "    [1, 0, 0, 0],\n",
        "    [0, 1, 1, 0],\n",
        "    [0, 0, 0, 1]\n",
        "])\n",
        "\n",
        "# ==== INITIALIZE SOM ====\n",
        "som = MiniSom(x=1, y=2, input_len=4, sigma=0.5, learning_rate=0.5, random_seed=42)\n",
        "\n",
        "# Manually set weights to your given values\n",
        "custom_weights = np.array([\n",
        "    [[0.2, 0.4, 0.6, 0.8]],\n",
        "    [[0.9, 0.7, 0.5, 0.3]]\n",
        "])\n",
        "som._weights = np.transpose(custom_weights, (1, 0, 2))  # shape (1,2,4)\n",
        "\n",
        "print(\"Initial Weights (Before Iteration):\")\n",
        "print(som.get_weights())\n",
        "\n",
        "# ==== TRAIN 1 ITERATION ====\n",
        "som.train_random(data, 1)\n",
        "print(\"\\nWeights After First Iteration:\")\n",
        "print(som.get_weights())\n",
        "\n",
        "# ==== TRAIN FULL ====\n",
        "som.train_random(data, 10)\n",
        "print(\"\\nFinal Weights (After Last Iteration):\")\n",
        "print(som.get_weights())\n",
        "\n",
        "# ==== CLUSTER ASSIGNMENT ====\n",
        "print(\"\\nCluster Assignments:\")\n",
        "for i, x in enumerate(data):\n",
        "    winner = som.winner(x)\n",
        "    print(f\"Input {i+1} {x} -> Cluster {winner}\")\n"
      ],
      "metadata": {
        "colab": {
          "base_uri": "https://localhost:8080/"
        },
        "id": "LBVc3V49bm9G",
        "outputId": "8b90efc8-e198-4b0b-de82-e6a0fd7cdc2b"
      },
      "execution_count": 3,
      "outputs": [
        {
          "output_type": "stream",
          "name": "stdout",
          "text": [
            "Collecting minisom\n",
            "  Downloading minisom-2.3.5.tar.gz (12 kB)\n",
            "  Preparing metadata (setup.py) ... \u001b[?25l\u001b[?25hdone\n",
            "Building wheels for collected packages: minisom\n",
            "  Building wheel for minisom (setup.py) ... \u001b[?25l\u001b[?25hdone\n",
            "  Created wheel for minisom: filename=MiniSom-2.3.5-py3-none-any.whl size=12031 sha256=4d97159d770e3d698a3d9c1006a64525deb7797ae81b310f79204bde4c12b490\n",
            "  Stored in directory: /root/.cache/pip/wheels/0f/8c/a4/5b7aa56fa6ef11d536d45da775bcc5a2a1c163ff0f8f11990b\n",
            "Successfully built minisom\n",
            "Installing collected packages: minisom\n",
            "Successfully installed minisom-2.3.5\n",
            "Initial Weights (Before Iteration):\n",
            "[[[0.2 0.4 0.6 0.8]\n",
            "  [0.9 0.7 0.5 0.3]]]\n",
            "\n",
            "Weights After First Iteration:\n",
            "[[[0.1        0.2        0.8        0.9       ]\n",
            "  [0.83909912 0.65263265 0.53383382 0.34736735]]]\n",
            "\n",
            "Final Weights (After Last Iteration):\n",
            "[[[0.01683885 0.15453576 0.63243832 0.85699412]\n",
            "  [0.81953921 0.25566833 0.24766131 0.07599428]]]\n",
            "\n",
            "Cluster Assignments:\n",
            "Input 1 [0 0 1 1] -> Cluster (np.int64(0), np.int64(0))\n",
            "Input 2 [1 0 0 0] -> Cluster (np.int64(0), np.int64(1))\n",
            "Input 3 [0 1 1 0] -> Cluster (np.int64(0), np.int64(0))\n",
            "Input 4 [0 0 0 1] -> Cluster (np.int64(0), np.int64(0))\n"
          ]
        }
      ]
    }
  ]
}